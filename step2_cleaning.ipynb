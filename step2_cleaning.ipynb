{
 "cells": [
  {
   "cell_type": "code",
   "execution_count": 237,
   "id": "8eace461-cb01-422e-8061-d686f83c9117",
   "metadata": {},
   "outputs": [],
   "source": [
    "import pandas as pd"
   ]
  },
  {
   "cell_type": "code",
   "execution_count": 238,
   "id": "14663188-b431-4174-960c-b2cc53f288da",
   "metadata": {},
   "outputs": [],
   "source": [
    "df = pd.read_csv('tmdb_movies.csv')"
   ]
  },
  {
   "cell_type": "code",
   "execution_count": 239,
   "id": "b7802bcd-68d2-4ec0-925e-b2a2b0c11ea7",
   "metadata": {},
   "outputs": [
    {
     "data": {
      "text/html": [
       "<div>\n",
       "<style scoped>\n",
       "    .dataframe tbody tr th:only-of-type {\n",
       "        vertical-align: middle;\n",
       "    }\n",
       "\n",
       "    .dataframe tbody tr th {\n",
       "        vertical-align: top;\n",
       "    }\n",
       "\n",
       "    .dataframe thead th {\n",
       "        text-align: right;\n",
       "    }\n",
       "</style>\n",
       "<table border=\"1\" class=\"dataframe\">\n",
       "  <thead>\n",
       "    <tr style=\"text-align: right;\">\n",
       "      <th></th>\n",
       "      <th>id</th>\n",
       "      <th>title</th>\n",
       "      <th>release_date</th>\n",
       "      <th>vote_average</th>\n",
       "      <th>overview</th>\n",
       "      <th>poster_path</th>\n",
       "      <th>original_language</th>\n",
       "      <th>genre_names</th>\n",
       "      <th>popularity</th>\n",
       "      <th>vote_count</th>\n",
       "      <th>...</th>\n",
       "      <th>runtime</th>\n",
       "      <th>spoken_languages</th>\n",
       "      <th>budget</th>\n",
       "      <th>revenue</th>\n",
       "      <th>status</th>\n",
       "      <th>tagline</th>\n",
       "      <th>homepage</th>\n",
       "      <th>imdb_id</th>\n",
       "      <th>cast</th>\n",
       "      <th>crew</th>\n",
       "    </tr>\n",
       "  </thead>\n",
       "  <tbody>\n",
       "    <tr>\n",
       "      <th>0</th>\n",
       "      <td>278</td>\n",
       "      <td>The Shawshank Redemption</td>\n",
       "      <td>1994-09-23</td>\n",
       "      <td>8.700</td>\n",
       "      <td>Imprisoned in the 1940s for the double murder ...</td>\n",
       "      <td>https://image.tmdb.org/t/p/w500/9cqNxx0GxF0bfl...</td>\n",
       "      <td>en</td>\n",
       "      <td>Drama, Crime</td>\n",
       "      <td>157.766</td>\n",
       "      <td>27254</td>\n",
       "      <td>...</td>\n",
       "      <td>142</td>\n",
       "      <td>English</td>\n",
       "      <td>25000000</td>\n",
       "      <td>28341469</td>\n",
       "      <td>Released</td>\n",
       "      <td>Fear can hold you prisoner. Hope can set you f...</td>\n",
       "      <td>NaN</td>\n",
       "      <td>tt0111161</td>\n",
       "      <td>Tim Robbins, Morgan Freeman, Bob Gunton</td>\n",
       "      <td>Frank Darabont</td>\n",
       "    </tr>\n",
       "    <tr>\n",
       "      <th>1</th>\n",
       "      <td>238</td>\n",
       "      <td>The Godfather</td>\n",
       "      <td>1972-03-14</td>\n",
       "      <td>8.689</td>\n",
       "      <td>Spanning the years 1945 to 1955, a chronicle o...</td>\n",
       "      <td>https://image.tmdb.org/t/p/w500/3bhkrj58Vtu7en...</td>\n",
       "      <td>en</td>\n",
       "      <td>Drama, Crime</td>\n",
       "      <td>190.434</td>\n",
       "      <td>20699</td>\n",
       "      <td>...</td>\n",
       "      <td>175</td>\n",
       "      <td>English, Italiano, Latin</td>\n",
       "      <td>6000000</td>\n",
       "      <td>245066411</td>\n",
       "      <td>Released</td>\n",
       "      <td>An offer you can't refuse.</td>\n",
       "      <td>http://www.thegodfather.com/</td>\n",
       "      <td>tt0068646</td>\n",
       "      <td>Marlon Brando, Al Pacino, James Caan</td>\n",
       "      <td>Francis Ford Coppola</td>\n",
       "    </tr>\n",
       "    <tr>\n",
       "      <th>2</th>\n",
       "      <td>240</td>\n",
       "      <td>The Godfather Part II</td>\n",
       "      <td>1974-12-20</td>\n",
       "      <td>8.600</td>\n",
       "      <td>In the continuing saga of the Corleone crime f...</td>\n",
       "      <td>https://image.tmdb.org/t/p/w500/hek3koDUyRQk7F...</td>\n",
       "      <td>en</td>\n",
       "      <td>Drama, Crime</td>\n",
       "      <td>96.518</td>\n",
       "      <td>12483</td>\n",
       "      <td>...</td>\n",
       "      <td>202</td>\n",
       "      <td>English, Italiano, Latin, EspaÃ±ol</td>\n",
       "      <td>13000000</td>\n",
       "      <td>102600000</td>\n",
       "      <td>Released</td>\n",
       "      <td>The rise and fall of the Corleone empire.</td>\n",
       "      <td>NaN</td>\n",
       "      <td>tt0071562</td>\n",
       "      <td>Al Pacino, Robert Duvall, Diane Keaton</td>\n",
       "      <td>Francis Ford Coppola</td>\n",
       "    </tr>\n",
       "    <tr>\n",
       "      <th>3</th>\n",
       "      <td>424</td>\n",
       "      <td>Schindler's List</td>\n",
       "      <td>1993-12-15</td>\n",
       "      <td>8.567</td>\n",
       "      <td>The true story of how businessman Oskar Schind...</td>\n",
       "      <td>https://image.tmdb.org/t/p/w500/sF1U4EUQS8YHUY...</td>\n",
       "      <td>en</td>\n",
       "      <td>Drama, History, War</td>\n",
       "      <td>68.609</td>\n",
       "      <td>15900</td>\n",
       "      <td>...</td>\n",
       "      <td>195</td>\n",
       "      <td>Deutsch, Polski, ×¢Ö´×‘Ö°×¨Ö´×™×ª, English</td>\n",
       "      <td>22000000</td>\n",
       "      <td>321365567</td>\n",
       "      <td>Released</td>\n",
       "      <td>Whoever saves one life, saves the world entire.</td>\n",
       "      <td>http://www.schindlerslist.com/</td>\n",
       "      <td>tt0108052</td>\n",
       "      <td>Liam Neeson, Ben Kingsley, Ralph Fiennes</td>\n",
       "      <td>Steven Spielberg</td>\n",
       "    </tr>\n",
       "    <tr>\n",
       "      <th>4</th>\n",
       "      <td>389</td>\n",
       "      <td>12 Angry Men</td>\n",
       "      <td>1957-04-10</td>\n",
       "      <td>8.500</td>\n",
       "      <td>The defense and the prosecution have rested an...</td>\n",
       "      <td>https://image.tmdb.org/t/p/w500/ow3wq89wM8qd5X...</td>\n",
       "      <td>en</td>\n",
       "      <td>Drama</td>\n",
       "      <td>48.220</td>\n",
       "      <td>8697</td>\n",
       "      <td>...</td>\n",
       "      <td>97</td>\n",
       "      <td>English</td>\n",
       "      <td>397751</td>\n",
       "      <td>4360000</td>\n",
       "      <td>Released</td>\n",
       "      <td>Life is in their hands â€” Death is on their m...</td>\n",
       "      <td>NaN</td>\n",
       "      <td>tt0050083</td>\n",
       "      <td>Martin Balsam, John Fiedler, Lee J. Cobb</td>\n",
       "      <td>Sidney Lumet</td>\n",
       "    </tr>\n",
       "    <tr>\n",
       "      <th>5</th>\n",
       "      <td>129</td>\n",
       "      <td>Spirited Away</td>\n",
       "      <td>2001-07-20</td>\n",
       "      <td>8.500</td>\n",
       "      <td>A young girl, Chihiro, becomes trapped in a st...</td>\n",
       "      <td>https://image.tmdb.org/t/p/w500/39wmItIWsg5sZM...</td>\n",
       "      <td>ja</td>\n",
       "      <td>Animation, Family, Fantasy</td>\n",
       "      <td>90.456</td>\n",
       "      <td>16561</td>\n",
       "      <td>...</td>\n",
       "      <td>125</td>\n",
       "      <td>æ—¥æœ¬èªž</td>\n",
       "      <td>19000000</td>\n",
       "      <td>274925095</td>\n",
       "      <td>Released</td>\n",
       "      <td>NaN</td>\n",
       "      <td>http://movies.disney.com/spirited-away</td>\n",
       "      <td>tt0245429</td>\n",
       "      <td>Rumi Hiiragi, Miyu Irino, Mari Natsuki</td>\n",
       "      <td>Hayao Miyazaki</td>\n",
       "    </tr>\n",
       "    <tr>\n",
       "      <th>6</th>\n",
       "      <td>19404</td>\n",
       "      <td>Dilwale Dulhania Le Jayenge</td>\n",
       "      <td>1995-10-20</td>\n",
       "      <td>8.500</td>\n",
       "      <td>Raj is a rich, carefree, happy-go-lucky second...</td>\n",
       "      <td>https://image.tmdb.org/t/p/w500/lfRkUr7DYdHldA...</td>\n",
       "      <td>hi</td>\n",
       "      <td>Comedy, Drama, Romance</td>\n",
       "      <td>40.315</td>\n",
       "      <td>4439</td>\n",
       "      <td>...</td>\n",
       "      <td>190</td>\n",
       "      <td>à¤¹à¤¿à¤¨à¥à¤¦à¥€</td>\n",
       "      <td>13200000</td>\n",
       "      <td>100000000</td>\n",
       "      <td>Released</td>\n",
       "      <td>Comeâ€¦ Fall In love, All Over Againâ€¦</td>\n",
       "      <td>NaN</td>\n",
       "      <td>tt0112870</td>\n",
       "      <td>Kajol, Shah Rukh Khan, Amrish Puri</td>\n",
       "      <td>Aditya Chopra</td>\n",
       "    </tr>\n",
       "  </tbody>\n",
       "</table>\n",
       "<p>7 rows × 26 columns</p>\n",
       "</div>"
      ],
      "text/plain": [
       "      id                        title release_date  vote_average  \\\n",
       "0    278     The Shawshank Redemption   1994-09-23         8.700   \n",
       "1    238                The Godfather   1972-03-14         8.689   \n",
       "2    240        The Godfather Part II   1974-12-20         8.600   \n",
       "3    424             Schindler's List   1993-12-15         8.567   \n",
       "4    389                 12 Angry Men   1957-04-10         8.500   \n",
       "5    129                Spirited Away   2001-07-20         8.500   \n",
       "6  19404  Dilwale Dulhania Le Jayenge   1995-10-20         8.500   \n",
       "\n",
       "                                            overview  \\\n",
       "0  Imprisoned in the 1940s for the double murder ...   \n",
       "1  Spanning the years 1945 to 1955, a chronicle o...   \n",
       "2  In the continuing saga of the Corleone crime f...   \n",
       "3  The true story of how businessman Oskar Schind...   \n",
       "4  The defense and the prosecution have rested an...   \n",
       "5  A young girl, Chihiro, becomes trapped in a st...   \n",
       "6  Raj is a rich, carefree, happy-go-lucky second...   \n",
       "\n",
       "                                         poster_path original_language  \\\n",
       "0  https://image.tmdb.org/t/p/w500/9cqNxx0GxF0bfl...                en   \n",
       "1  https://image.tmdb.org/t/p/w500/3bhkrj58Vtu7en...                en   \n",
       "2  https://image.tmdb.org/t/p/w500/hek3koDUyRQk7F...                en   \n",
       "3  https://image.tmdb.org/t/p/w500/sF1U4EUQS8YHUY...                en   \n",
       "4  https://image.tmdb.org/t/p/w500/ow3wq89wM8qd5X...                en   \n",
       "5  https://image.tmdb.org/t/p/w500/39wmItIWsg5sZM...                ja   \n",
       "6  https://image.tmdb.org/t/p/w500/lfRkUr7DYdHldA...                hi   \n",
       "\n",
       "                  genre_names  popularity  vote_count  ... runtime  \\\n",
       "0                Drama, Crime     157.766       27254  ...     142   \n",
       "1                Drama, Crime     190.434       20699  ...     175   \n",
       "2                Drama, Crime      96.518       12483  ...     202   \n",
       "3         Drama, History, War      68.609       15900  ...     195   \n",
       "4                       Drama      48.220        8697  ...      97   \n",
       "5  Animation, Family, Fantasy      90.456       16561  ...     125   \n",
       "6      Comedy, Drama, Romance      40.315        4439  ...     190   \n",
       "\n",
       "                             spoken_languages    budget    revenue    status  \\\n",
       "0                                     English  25000000   28341469  Released   \n",
       "1                    English, Italiano, Latin   6000000  245066411  Released   \n",
       "2          English, Italiano, Latin, EspaÃ±ol  13000000  102600000  Released   \n",
       "3  Deutsch, Polski, ×¢Ö´×‘Ö°×¨Ö´×™×ª, English  22000000  321365567  Released   \n",
       "4                                     English    397751    4360000  Released   \n",
       "5                                   æ—¥æœ¬èªž  19000000  274925095  Released   \n",
       "6                          à¤¹à¤¿à¤¨à¥à¤¦à¥€  13200000  100000000  Released   \n",
       "\n",
       "                                             tagline  \\\n",
       "0  Fear can hold you prisoner. Hope can set you f...   \n",
       "1                         An offer you can't refuse.   \n",
       "2          The rise and fall of the Corleone empire.   \n",
       "3    Whoever saves one life, saves the world entire.   \n",
       "4  Life is in their hands â€” Death is on their m...   \n",
       "5                                                NaN   \n",
       "6            Comeâ€¦ Fall In love, All Over Againâ€¦   \n",
       "\n",
       "                                 homepage    imdb_id  \\\n",
       "0                                     NaN  tt0111161   \n",
       "1            http://www.thegodfather.com/  tt0068646   \n",
       "2                                     NaN  tt0071562   \n",
       "3          http://www.schindlerslist.com/  tt0108052   \n",
       "4                                     NaN  tt0050083   \n",
       "5  http://movies.disney.com/spirited-away  tt0245429   \n",
       "6                                     NaN  tt0112870   \n",
       "\n",
       "                                       cast                  crew  \n",
       "0   Tim Robbins, Morgan Freeman, Bob Gunton        Frank Darabont  \n",
       "1      Marlon Brando, Al Pacino, James Caan  Francis Ford Coppola  \n",
       "2    Al Pacino, Robert Duvall, Diane Keaton  Francis Ford Coppola  \n",
       "3  Liam Neeson, Ben Kingsley, Ralph Fiennes      Steven Spielberg  \n",
       "4  Martin Balsam, John Fiedler, Lee J. Cobb          Sidney Lumet  \n",
       "5    Rumi Hiiragi, Miyu Irino, Mari Natsuki        Hayao Miyazaki  \n",
       "6        Kajol, Shah Rukh Khan, Amrish Puri         Aditya Chopra  \n",
       "\n",
       "[7 rows x 26 columns]"
      ]
     },
     "execution_count": 239,
     "metadata": {},
     "output_type": "execute_result"
    }
   ],
   "source": [
    "df.head(7)"
   ]
  },
  {
   "cell_type": "code",
   "execution_count": 240,
   "id": "73b845e8-cbc3-472d-8c39-7930f54780da",
   "metadata": {},
   "outputs": [
    {
     "data": {
      "text/plain": [
       "Index(['id', 'title', 'release_date', 'vote_average', 'overview',\n",
       "       'poster_path', 'original_language', 'genre_names', 'popularity',\n",
       "       'vote_count', 'backdrop_path', 'original_title', 'adult', 'video',\n",
       "       'production_companies', 'production_countries', 'runtime',\n",
       "       'spoken_languages', 'budget', 'revenue', 'status', 'tagline',\n",
       "       'homepage', 'imdb_id', 'cast', 'crew'],\n",
       "      dtype='object')"
      ]
     },
     "execution_count": 240,
     "metadata": {},
     "output_type": "execute_result"
    }
   ],
   "source": [
    "df.columns"
   ]
  },
  {
   "cell_type": "code",
   "execution_count": 241,
   "id": "32ba0451-9696-497d-815f-cfd494084005",
   "metadata": {},
   "outputs": [
    {
     "data": {
      "text/plain": [
       "6"
      ]
     },
     "execution_count": 241,
     "metadata": {},
     "output_type": "execute_result"
    }
   ],
   "source": [
    "df['imdb_id'].isna().sum()"
   ]
  },
  {
   "cell_type": "code",
   "execution_count": 242,
   "id": "debfa00a-764d-4fa6-a50b-d8a3fdcc8810",
   "metadata": {},
   "outputs": [],
   "source": [
    "df = df.dropna(subset=['imdb_id'])\n"
   ]
  },
  {
   "cell_type": "code",
   "execution_count": 243,
   "id": "2029189a-0390-4516-8305-7dce165699cf",
   "metadata": {},
   "outputs": [
    {
     "data": {
      "text/plain": [
       "(9789, 26)"
      ]
     },
     "execution_count": 243,
     "metadata": {},
     "output_type": "execute_result"
    }
   ],
   "source": [
    "df.shape"
   ]
  },
  {
   "cell_type": "code",
   "execution_count": 244,
   "id": "109a27b7-e558-4edd-8cf3-9ed3b3b22a8a",
   "metadata": {},
   "outputs": [],
   "source": [
    "df = df.drop(columns=['homepage'])"
   ]
  },
  {
   "cell_type": "code",
   "execution_count": 245,
   "id": "d58e4281-84d5-4455-80d1-05cee686a0f7",
   "metadata": {},
   "outputs": [
    {
     "data": {
      "text/plain": [
       "Index(['id', 'title', 'release_date', 'vote_average', 'overview',\n",
       "       'poster_path', 'original_language', 'genre_names', 'popularity',\n",
       "       'vote_count', 'backdrop_path', 'original_title', 'adult', 'video',\n",
       "       'production_companies', 'production_countries', 'runtime',\n",
       "       'spoken_languages', 'budget', 'revenue', 'status', 'tagline', 'imdb_id',\n",
       "       'cast', 'crew'],\n",
       "      dtype='object')"
      ]
     },
     "execution_count": 245,
     "metadata": {},
     "output_type": "execute_result"
    }
   ],
   "source": [
    "df.columns"
   ]
  },
  {
   "cell_type": "code",
   "execution_count": 246,
   "id": "a399a291-9047-4461-aacc-15904c8893db",
   "metadata": {},
   "outputs": [],
   "source": [
    "df['crew'] = df['crew'].fillna(\"Unknown\")"
   ]
  },
  {
   "cell_type": "code",
   "execution_count": 247,
   "id": "cccf1b0f-e89c-4d22-a8c4-bab74038445e",
   "metadata": {},
   "outputs": [
    {
     "data": {
      "text/plain": [
       "1535"
      ]
     },
     "execution_count": 247,
     "metadata": {},
     "output_type": "execute_result"
    }
   ],
   "source": [
    "df['tagline'].isna().sum()"
   ]
  },
  {
   "cell_type": "code",
   "execution_count": 248,
   "id": "5459828f-e62e-4352-968c-e4d078788a4b",
   "metadata": {},
   "outputs": [
    {
     "name": "stdout",
     "output_type": "stream",
     "text": [
      "An offer you can't refuse.\n"
     ]
    }
   ],
   "source": [
    "print(df.loc[1, 'tagline'])"
   ]
  },
  {
   "cell_type": "code",
   "execution_count": 249,
   "id": "2c53fecf-787b-420c-9859-1de31e29e6f9",
   "metadata": {},
   "outputs": [],
   "source": [
    "nan_indices = df[df['tagline'].isna()].index\n"
   ]
  },
  {
   "cell_type": "code",
   "execution_count": 250,
   "id": "60130f2e-f7ce-4594-91e6-21ebbc4fe565",
   "metadata": {},
   "outputs": [
    {
     "data": {
      "text/plain": [
       "30"
      ]
     },
     "execution_count": 250,
     "metadata": {},
     "output_type": "execute_result"
    }
   ],
   "source": [
    "nan_indices[3]"
   ]
  },
  {
   "cell_type": "code",
   "execution_count": 251,
   "id": "eea2174c-e0df-445b-87d6-20cdbe01ac43",
   "metadata": {},
   "outputs": [
    {
     "name": "stdout",
     "output_type": "stream",
     "text": [
      "Taglines updated using KNN and saved successfully!\n"
     ]
    }
   ],
   "source": [
    "from sklearn.neighbors import NearestNeighbors\n",
    "from sklearn.feature_extraction.text import TfidfVectorizer\n",
    "import pandas as pd\n",
    "import numpy as np\n",
    "\n",
    "df_filled = df[df['tagline'].notna()].copy()\n",
    "df_missing = df[df['tagline'].isna()].copy()\n",
    "\n",
    "df_filled['combined_text'] = (\n",
    "    df_filled['title'].fillna('') + \" \" +\n",
    "    df_filled['overview'].fillna('') + \" \" +\n",
    "    df_filled['genre_names'].fillna('')\n",
    ")\n",
    "\n",
    "df_missing['combined_text'] = (\n",
    "    df_missing['title'].fillna('') + \" \" +\n",
    "    df_missing['overview'].fillna('') + \" \" +\n",
    "    df_missing['genre_names'].fillna('')\n",
    ")\n",
    "\n",
    "tfidf = TfidfVectorizer(stop_words='english')\n",
    "tfidf_matrix = tfidf.fit_transform(df_filled['combined_text'])\n",
    "\n",
    "knn = NearestNeighbors(n_neighbors=5, metric='cosine')\n",
    "knn.fit(tfidf_matrix)\n",
    "\n",
    "tfidf_missing = tfidf.transform(df_missing['combined_text'])\n",
    "\n",
    "distances, indices = knn.kneighbors(tfidf_missing)\n",
    "\n",
    "for i, idx_list in enumerate(indices):\n",
    "    for idx in idx_list:\n",
    "        # Проверяем, что у соседа есть 'tagline'\n",
    "        if pd.notna(df_filled.iloc[idx]['tagline']):\n",
    "            df_missing.iloc[i, df_missing.columns.get_loc('tagline')] = df_filled.iloc[idx]['tagline']\n",
    "            break\n",
    "\n",
    "df = pd.concat([df_filled, df_missing])\n",
    "\n",
    "print(\"Taglines updated using KNN and saved successfully!\")"
   ]
  },
  {
   "cell_type": "code",
   "execution_count": 252,
   "id": "f4d152ea-1c2a-4940-adb8-db93aad63b8e",
   "metadata": {},
   "outputs": [
    {
     "name": "stdout",
     "output_type": "stream",
     "text": [
      "Far From Grace\n"
     ]
    }
   ],
   "source": [
    "print(df_updated.loc[30, 'tagline'])"
   ]
  },
  {
   "cell_type": "code",
   "execution_count": 253,
   "id": "41043954-6221-496d-834b-869803c105dc",
   "metadata": {},
   "outputs": [],
   "source": [
    "df = df.drop_duplicates(subset=['imdb_id'], keep='first')"
   ]
  },
  {
   "cell_type": "code",
   "execution_count": 254,
   "id": "15393ea5-4217-4631-9843-b6fb5b29ddc4",
   "metadata": {},
   "outputs": [
    {
     "data": {
      "text/plain": [
       "(9787, 26)"
      ]
     },
     "execution_count": 254,
     "metadata": {},
     "output_type": "execute_result"
    }
   ],
   "source": [
    "df.shape"
   ]
  },
  {
   "cell_type": "code",
   "execution_count": 257,
   "id": "d70500be-4e31-44cc-b291-39d0b8bb31a5",
   "metadata": {},
   "outputs": [
    {
     "data": {
      "text/plain": [
       "id                       0\n",
       "title                    0\n",
       "release_date             0\n",
       "vote_average             0\n",
       "overview                 0\n",
       "poster_path              1\n",
       "original_language        0\n",
       "genre_names              1\n",
       "popularity               0\n",
       "vote_count               0\n",
       "backdrop_path            4\n",
       "original_title           0\n",
       "adult                    0\n",
       "video                    0\n",
       "production_companies    31\n",
       "production_countries     5\n",
       "runtime                  0\n",
       "spoken_languages         4\n",
       "budget                   0\n",
       "revenue                  0\n",
       "status                   0\n",
       "tagline                  0\n",
       "imdb_id                  0\n",
       "cast                    25\n",
       "crew                     0\n",
       "combined_text            0\n",
       "dtype: int64"
      ]
     },
     "execution_count": 257,
     "metadata": {},
     "output_type": "execute_result"
    }
   ],
   "source": [
    "df.isna().sum()"
   ]
  },
  {
   "cell_type": "code",
   "execution_count": 258,
   "id": "660bee99-27b6-4a5b-b3fd-464b3e5257bc",
   "metadata": {},
   "outputs": [],
   "source": [
    "df = df.dropna()"
   ]
  },
  {
   "cell_type": "code",
   "execution_count": 260,
   "id": "af8e7af3-327e-4b6b-a878-e67726b8958d",
   "metadata": {},
   "outputs": [
    {
     "data": {
      "text/plain": [
       "id                      0\n",
       "title                   0\n",
       "release_date            0\n",
       "vote_average            0\n",
       "overview                0\n",
       "poster_path             0\n",
       "original_language       0\n",
       "genre_names             0\n",
       "popularity              0\n",
       "vote_count              0\n",
       "backdrop_path           0\n",
       "original_title          0\n",
       "adult                   0\n",
       "video                   0\n",
       "production_companies    0\n",
       "production_countries    0\n",
       "runtime                 0\n",
       "spoken_languages        0\n",
       "budget                  0\n",
       "revenue                 0\n",
       "status                  0\n",
       "tagline                 0\n",
       "imdb_id                 0\n",
       "cast                    0\n",
       "crew                    0\n",
       "combined_text           0\n",
       "dtype: int64"
      ]
     },
     "execution_count": 260,
     "metadata": {},
     "output_type": "execute_result"
    }
   ],
   "source": "df.isna().sum()"
  },
  {
   "cell_type": "code",
   "execution_count": 261,
   "id": "68aabfe6-66a4-48f3-b5cc-561a9c80197f",
   "metadata": {},
   "outputs": [],
   "source": [
    "df.to_csv('clean_tmdb_movies.csv')"
   ]
  }
 ],
 "metadata": {
  "kernelspec": {
   "display_name": "Python 3 (ipykernel)",
   "language": "python",
   "name": "python3"
  },
  "language_info": {
   "codemirror_mode": {
    "name": "ipython",
    "version": 3
   },
   "file_extension": ".py",
   "mimetype": "text/x-python",
   "name": "python",
   "nbconvert_exporter": "python",
   "pygments_lexer": "ipython3",
   "version": "3.12.1"
  }
 },
 "nbformat": 4,
 "nbformat_minor": 5
}
